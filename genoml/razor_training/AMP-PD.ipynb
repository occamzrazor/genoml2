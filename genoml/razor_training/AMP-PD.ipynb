{
 "cells": [
  {
   "cell_type": "markdown",
   "metadata": {},
   "source": [
    "# Implementation of Logistic Regression on AMP-PD \n",
    "\n",
    "#### Author: Maria Castanos and William Koehler"
   ]
  },
  {
   "cell_type": "code",
   "execution_count": 1,
   "metadata": {},
   "outputs": [],
   "source": [
    "import pandas as pd\n",
    "import numpy as np\n",
    "from logistic_regression import RazorLogReg\n",
    "from dimensionality_reduction import SelectFeatures\n",
    "from sklearn import model_selection\n",
    "import time"
   ]
  },
  {
   "cell_type": "markdown",
   "metadata": {},
   "source": [
    "## Import Datasets"
   ]
  },
  {
   "cell_type": "code",
   "execution_count": 2,
   "metadata": {},
   "outputs": [],
   "source": [
    "path = \"/Users/mdmcastanos/Documents/OccamzRazor/plink_files/\"\n",
    "numpy_file = path + \"plink_numpy.npy\"\n",
    "tsv_file = path + \"latest_labels.tsv\"\n",
    "y = pd.read_csv(tsv_file, sep = '\\t')\n",
    "df = pd.DataFrame(np.load(numpy_file))\n",
    "df = df.assign(participant_id=y[\"participant_id\"], case_control_other_latest = y['case_control_other_latest'])"
   ]
  },
  {
   "cell_type": "markdown",
   "metadata": {},
   "source": [
    "### Split data"
   ]
  },
  {
   "cell_type": "code",
   "execution_count": 3,
   "metadata": {},
   "outputs": [],
   "source": [
    "X = df.drop(columns=['case_control_other_latest'])\n",
    "y = df['case_control_other_latest']\n",
    "X_train, X_test, y_train, y_test = model_selection.train_test_split(X, y, test_size=0.3, random_state=42)"
   ]
  },
  {
   "cell_type": "markdown",
   "metadata": {},
   "source": [
    "## Dimensionality Reduction "
   ]
  },
  {
   "cell_type": "markdown",
   "metadata": {},
   "source": [
    "Since the dataset has *x* features and *n* rows, dimensionality reduction was performed by choosing the most relevant features according to an [Extra-Trees Classifier](https://scikit-learn.org/stable/modules/generated/sklearn.tree.ExtraTreeClassifier.html). "
   ]
  },
  {
   "cell_type": "code",
   "execution_count": 4,
   "metadata": {},
   "outputs": [],
   "source": [
    "selected_features = SelectFeatures()\n",
    "train_set_reduced = selected_features.get_reduced_dataset(X_train, y_train)"
   ]
  },
  {
   "cell_type": "code",
   "execution_count": 5,
   "metadata": {},
   "outputs": [],
   "source": [
    "test_set_reduced = selected_features.get_test_set_reduced(X_test, y_test)"
   ]
  },
  {
   "cell_type": "markdown",
   "metadata": {},
   "source": [
    "## Regularized Multinomial Logistic Regression "
   ]
  },
  {
   "cell_type": "markdown",
   "metadata": {},
   "source": [
    "### Training\n",
    "A regularized multinomial logistic regression is trained to predict three classes (Control, Case, Other). Ridge penalization was used in order to take advantage of the correlation among the columns, to predict with higher accuracy. \n",
    "\n",
    "The optimization problem is:\n",
    "$$\\max_{\\beta} \\left\\{ \\sum_{i = 1}^{N} \\big[y_i(\\beta^Tx_i) - \\log(1 + \\exp(\\beta^Tx_i)) \\big] - \\lambda \\sum_{j = 1}^p \\beta_j^2 \\right\\}$$\n",
    "### Hyperparameter Optimization\n",
    "Hyperparameter $\\lambda$ in the optimization problem above, is optimized by implementing [randomized search cross validation](https://scikit-learn.org/stable/modules/generated/sklearn.model_selection.RandomizedSearchCV.html). "
   ]
  },
  {
   "cell_type": "code",
   "execution_count": 7,
   "metadata": {},
   "outputs": [
    {
     "name": "stderr",
     "output_type": "stream",
     "text": [
      "//anaconda3/lib/python3.7/site-packages/sklearn/linear_model/_sag.py:330: ConvergenceWarning: The max_iter was reached which means the coef_ did not converge\n",
      "  \"the coef_ did not converge\", ConvergenceWarning)\n"
     ]
    }
   ],
   "source": [
    "classifier = RazorLogReg(train_set_reduced, test_set_reduced)\n",
    "logistic_regression = classifier.get_logistic_regression()"
   ]
  },
  {
   "cell_type": "code",
   "execution_count": null,
   "metadata": {},
   "outputs": [],
   "source": [
    "logistic_regression.best"
   ]
  },
  {
   "cell_type": "markdown",
   "metadata": {},
   "source": [
    "## Train Baseline Models"
   ]
  },
  {
   "cell_type": "markdown",
   "metadata": {},
   "source": [
    "To compare the performance of the logistic regression against baseline models, both a random and a majority-class classifers were trained. \n",
    "To evaluate the performance of the logistic regression, both a random and a majority-class classifers were implemented as baseline models to compare against. "
   ]
  },
  {
   "cell_type": "code",
   "execution_count": 8,
   "metadata": {},
   "outputs": [],
   "source": [
    "random_classifier = classifier.get_random_classifier()\n",
    "majority_class_classifier = classifier.get_majority_class_classifier()"
   ]
  },
  {
   "cell_type": "markdown",
   "metadata": {},
   "source": [
    "## Results"
   ]
  },
  {
   "cell_type": "code",
   "execution_count": 9,
   "metadata": {},
   "outputs": [
    {
     "name": "stderr",
     "output_type": "stream",
     "text": [
      "//anaconda3/lib/python3.7/site-packages/sklearn/metrics/_classification.py:1221: UndefinedMetricWarning: Precision is ill-defined and being set to 0.0 in labels with no predicted samples. Use `zero_division` parameter to control this behavior.\n",
      "  _warn_prf(average, modifier, msg_start, len(result))\n"
     ]
    },
    {
     "data": {
      "text/html": [
       "<div>\n",
       "<style scoped>\n",
       "    .dataframe tbody tr th:only-of-type {\n",
       "        vertical-align: middle;\n",
       "    }\n",
       "\n",
       "    .dataframe tbody tr th {\n",
       "        vertical-align: top;\n",
       "    }\n",
       "\n",
       "    .dataframe thead th {\n",
       "        text-align: right;\n",
       "    }\n",
       "</style>\n",
       "<table border=\"1\" class=\"dataframe\">\n",
       "  <thead>\n",
       "    <tr style=\"text-align: right;\">\n",
       "      <th></th>\n",
       "      <th>Logistic Regression</th>\n",
       "      <th>Random Classifier</th>\n",
       "      <th>Majority Class Classifier</th>\n",
       "    </tr>\n",
       "  </thead>\n",
       "  <tbody>\n",
       "    <tr>\n",
       "      <th>Accuracy</th>\n",
       "      <td>0.675</td>\n",
       "      <td>0.337</td>\n",
       "      <td>0.585</td>\n",
       "    </tr>\n",
       "    <tr>\n",
       "      <th>Precision</th>\n",
       "      <td>0.617</td>\n",
       "      <td>0.465</td>\n",
       "      <td>0.342</td>\n",
       "    </tr>\n",
       "    <tr>\n",
       "      <th>Recall</th>\n",
       "      <td>0.675</td>\n",
       "      <td>0.337</td>\n",
       "      <td>0.585</td>\n",
       "    </tr>\n",
       "    <tr>\n",
       "      <th>F1 Score</th>\n",
       "      <td>0.643</td>\n",
       "      <td>0.376</td>\n",
       "      <td>0.432</td>\n",
       "    </tr>\n",
       "  </tbody>\n",
       "</table>\n",
       "</div>"
      ],
      "text/plain": [
       "           Logistic Regression  Random Classifier  Majority Class Classifier\n",
       "Accuracy                 0.675              0.337                      0.585\n",
       "Precision                0.617              0.465                      0.342\n",
       "Recall                   0.675              0.337                      0.585\n",
       "F1 Score                 0.643              0.376                      0.432"
      ]
     },
     "execution_count": 9,
     "metadata": {},
     "output_type": "execute_result"
    }
   ],
   "source": [
    "performance_table = classifier.get_performance_table(logistic_regression, \n",
    "                                                     random_classifier, \n",
    "                                                     majority_class_classifier)\n",
    "performance_table = pd.DataFrame(performance_table)\n",
    "performance_table.round(3)"
   ]
  },
  {
   "cell_type": "markdown",
   "metadata": {},
   "source": [
    "## Next Steps"
   ]
  },
  {
   "cell_type": "markdown",
   "metadata": {},
   "source": [
    "- Explore methods to perform dimensionality reduction. \n",
    "- Literature review on different ways of training on Patient Data."
   ]
  }
 ],
 "metadata": {
  "kernelspec": {
   "display_name": "Python 3",
   "language": "python",
   "name": "python3"
  }
 },
 "nbformat": 4,
 "nbformat_minor": 4
}
